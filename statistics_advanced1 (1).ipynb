{
  "nbformat": 4,
  "nbformat_minor": 0,
  "metadata": {
    "colab": {
      "provenance": []
    },
    "kernelspec": {
      "name": "python3",
      "display_name": "Python 3"
    },
    "language_info": {
      "name": "python"
    }
  },
  "cells": [
    {
      "cell_type": "code",
      "execution_count": null,
      "metadata": {
        "id": "w7fknIzPk1Hu"
      },
      "outputs": [],
      "source": [
        "#Question 1: What is a random variable in probability theory?\n",
        "\n",
        "''' A random variable is a fundamental concept in probability theory.\n",
        " It is a function that assigns a numerical value to each outcome in a sample space of a random experiment.\n",
        " '''"
      ]
    },
    {
      "cell_type": "code",
      "source": [
        "#Question 2: What are the types of random variables?\n",
        "\n",
        "'''Random variables can be **discrete**, taking countable values like the roll of a die, or **continuous**,\n",
        "taking infinitely many values within a range—such as temperature or time.\n",
        " Discrete ones use probability mass functions, while continuous ones rely on probability density functions to describe how likely different outcomes are.\n",
        "'''\n"
      ],
      "metadata": {
        "id": "cshPwgG2le0b"
      },
      "execution_count": null,
      "outputs": []
    },
    {
      "cell_type": "code",
      "source": [
        "#Question 3: Explain the difference between discrete and continuous distributions.\n",
        "\n",
        " '''A discrete distribution applies to random variables that take countable values,\n",
        " like the number of heads in coin tosses, with each value having a specific probability.\n",
        " In contrast, a continuous distribution deals with measurable values over an interval,\n",
        " like height or time, and uses a probability density function since exact values have zero probability.\n",
        " Discrete is for counting; continuous is for measuring.\n",
        " '''\n"
      ],
      "metadata": {
        "id": "wx9K0wgRjmdy"
      },
      "execution_count": null,
      "outputs": []
    },
    {
      "cell_type": "code",
      "source": [
        "#Question 4: What is a binomial distribution, and how is it used in probability?\n",
        "\n",
        "''' A binomial distribution is a discrete probability distribution that describes the number of successes in a fixed number of independent Bernoulli trials\n",
        " (i.e., experiments that have exactly two outcomes: success or failure), each with the same probability of success.\n",
        " '''"
      ],
      "metadata": {
        "id": "W5ngqaWJjmpg"
      },
      "execution_count": null,
      "outputs": []
    },
    {
      "cell_type": "code",
      "source": [
        "#Question 5: What is the standard normal distribution, and why is it important?\n",
        "'''\n",
        "The standard normal distribution is a special case of the normal distribution with:\n",
        "Mean (μ) = 0\n",
        "Standard deviation (σ) = 1\n",
        "\n",
        "The **standard normal distribution** is important because it simplifies complex probability problems by converting data to a common scale (Z-scores),\n",
        " making it easy to compare different datasets, calculate probabilities, and perform statistical tests like hypothesis testing and confidence intervals.\n",
        "'''"
      ],
      "metadata": {
        "id": "i7G5TkD2jm2v"
      },
      "execution_count": null,
      "outputs": []
    },
    {
      "cell_type": "code",
      "source": [
        "#Question 6: What is the Central Limit Theorem (CLT), and why is it critical in statistics?\n",
        "'''\n",
        "The Central Limit Theorem (CLT) states that the sampling distribution of the sample mean (or sum) of a large number of independent,\n",
        " identically distributed (i.i.d.) random variables will be approximately normally distributed, regardless of the original distribution,\n",
        " as long as the sample size is sufficiently large (usually n ≥ 30).\n",
        "\n",
        "  why is it critical in statistics:\n",
        "\n",
        " Enables use of normal distribution for inference, even if the data isn't normally distributed.\n",
        " Foundation for confidence intervals and hypothesis testing.\n",
        " Helps in approximating probabilities for sample means in real-world problems.\n",
        " '''"
      ],
      "metadata": {
        "id": "1MaByYmujnwE"
      },
      "execution_count": null,
      "outputs": []
    },
    {
      "cell_type": "code",
      "source": [
        "#Question 7: What is the significance of confidence intervals in statistical analysis?\n",
        "'''\n",
        "Significance:\n",
        "\n",
        "Estimates with uncertainty: CI gives not just a point estimate but shows the margin of error.\n",
        "\n",
        "Informs decision-making: Wider intervals mean more uncertainty; narrow intervals suggest more precision.\n",
        "\n",
        "Used in hypothesis testing: If a CI for a mean difference includes 0, we may conclude no significant effect.\n",
        "'''"
      ],
      "metadata": {
        "id": "bFcYhY8hjn_7"
      },
      "execution_count": null,
      "outputs": []
    },
    {
      "cell_type": "code",
      "source": [
        "#Question 8: What is the concept of expected value in a probability distribution?\n",
        "\n",
        "'''Expected Value -- Concept in Probability Distribution\n",
        "The expected value (also called mean) of a probability distribution is the long-term average outcome of a random variable over many trials.\n",
        "It represents the central value you would expect if you repeated the experiment infinitely.\n",
        "'''\n",
        "\n"
      ],
      "metadata": {
        "id": "75p8p8EqjoPB"
      },
      "execution_count": null,
      "outputs": []
    },
    {
      "cell_type": "code",
      "source": [
        "'''\n",
        "Question 9: Write a Python program to generate 1000 random numbers from a normal\n",
        "distribution with mean = 50 and standard deviation = 5. Compute its mean and standard\n",
        "deviation using NumPy, and draw a histogram to visualize the distribution.\n",
        "'''\n",
        "import numpy as np\n",
        "import matplotlib.pyplot as plt\n",
        "\n",
        "# Generate 1000 random numbers from a normal distribution\n",
        "data = np.random.normal(loc=50, scale=5, size=1000)\n",
        "\n",
        "# Compute mean and standard deviation\n",
        "mean = np.mean(data)\n",
        "std_dev = np.std(data)\n",
        "\n",
        "# Print results\n",
        "print(f\"Mean: {mean:.2f}\")\n",
        "print(f\"Standard Deviation: {std_dev:.2f}\")\n",
        "\n",
        "# Plot histogram\n",
        "plt.hist(data, bins=30, color='skyblue', edgecolor='black')\n",
        "plt.title('Histogram of Normally Distributed Data')\n",
        "\n"
      ],
      "metadata": {
        "id": "sJA7bsxskHvc",
        "colab": {
          "base_uri": "https://localhost:8080/",
          "height": 504
        },
        "outputId": "40bd4abf-4fcc-47ca-ab9a-4be4841a2a4d"
      },
      "execution_count": null,
      "outputs": [
        {
          "output_type": "stream",
          "name": "stdout",
          "text": [
            "Mean: 50.02\n",
            "Standard Deviation: 4.92\n"
          ]
        },
        {
          "output_type": "execute_result",
          "data": {
            "text/plain": [
              "Text(0.5, 1.0, 'Histogram of Normally Distributed Data')"
            ]
          },
          "metadata": {},
          "execution_count": 1
        },
        {
          "output_type": "display_data",
          "data": {
            "text/plain": [
              "<Figure size 640x480 with 1 Axes>"
            ],
            "image/png": "[encoded data removed]"
          },
          "metadata": {}
        }
      ]
    }
  ]
}