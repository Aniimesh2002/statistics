{
  "nbformat": 4,
  "nbformat_minor": 0,
  "metadata": {
    "colab": {
      "provenance": []
    },
    "kernelspec": {
      "name": "python3",
      "display_name": "Python 3"
    },
    "language_info": {
      "name": "python"
    }
  },
  "cells": [
    {
      "cell_type": "markdown",
      "source": [
        "Question 1: What is hypothesis testing in statistics?\n",
        "\n",
        "answer:\n",
        "\n",
        "Hypothesis testing is a way to check if what you observe in a sample is enough to believe something is true for the whole population.\n",
        "\n",
        "example :\n",
        "A company claims its bulbs last 1000 hours on average.\n",
        "\n",
        "H₀: Mean life = 1000 hours\n",
        "\n",
        "H₁: Mean life ≠ 1000 hours\n",
        "\n",
        "Sample mean = 980 hours, p-value = 0.01\n",
        "\n",
        "Since 0.01 < 0.05 → Reject H₀ → Bulbs last significantly less than 1000 hours."
      ],
      "metadata": {
        "id": "q99KBA2I_3Z9"
      }
    },
    {
      "cell_type": "markdown",
      "source": [
        "Question 2: What is the null hypothesis, and how does it differ from the alternative hypothesis?\n",
        "\n",
        "answer:\n",
        "\n",
        "The null hypothesis (H₀) is the default assumption in hypothesis testing — it says there’s no effect, no difference, or nothing unusual happening in the population.\n",
        "\n",
        "The alternative hypothesis (H₁ or Ha) is what you’re trying to find evidence for — it says there is an effect or difference\n"
      ],
      "metadata": {
        "id": "H0kfhQPl_9Zz"
      }
    },
    {
      "cell_type": "markdown",
      "source": [
        "Question 3: Explain the significance level in hypothesis testing and its role in deciding the outcome of a test.\n",
        "\n",
        "answer:\n",
        "The significance level (denoted by α) is the threshold probability you set in advance to decide whether to reject the null hypothesis (H₀).\n",
        "\n",
        "It represents the risk you’re willing to take of making a Type I error — rejecting H₀ when it is actually true\n",
        "\n"
      ],
      "metadata": {
        "id": "UWQ3ODUEADHN"
      }
    },
    {
      "cell_type": "markdown",
      "source": [
        "Question 4: What are Type I and Type II errors? Give examples of each.\n",
        "\n",
        "answer:\n",
        "# Type I Error:\n",
        "\n",
        "Definition: The probability of rejecting the null hypothesis (H₀) when it is actually true.\n",
        "\n",
        "Symbol: α (significance level)\n",
        "\n",
        "Interpretation: This is the risk of concluding that there is an effect or difference when none actually exists.\n",
        "\n",
        "Cause: Random sample fluctuations make the data appear unusual under H₀, leading to its rejection.\n",
        "\n",
        "\n",
        "# Type II Error:\n",
        "Definition: The probability of failing to reject the null hypothesis (H₀) when it is actually false.\n",
        "\n",
        "Symbol: β\n",
        "\n",
        "Interpretation: This is the risk of concluding there is no effect or difference when one actually exists.\n",
        "\n",
        "Cause: The data collected is not strong enough to show a statistically significant difference, even though the alternative hypothesis is true."
      ],
      "metadata": {
        "id": "jEPEqN3-AO0n"
      }
    },
    {
      "cell_type": "markdown",
      "source": [
        "Question 5: What is the difference between a Z-test and a T-test? Explain when to use each.\n",
        "\n",
        "answer:\n",
        "\n",
        "# Z-test\n",
        "Definition: A statistical test used when the population standard deviation (σ) is known and/or the sample size is large (n ≥ 30).\n",
        "\n",
        "Distribution: Standard Normal distribution (Z-distribution, mean = 0, SD = 1).\n",
        "\n",
        "When to use:\n",
        "\n",
        "Population variance is known.\n",
        "\n",
        "Large sample size (Central Limit Theorem applies).\n",
        "\n",
        "Data is approximately normally distributed.\n",
        "\n",
        "Example: Testing whether the average weight of rice bags differs from 50 kg, when σ is known.\n",
        "\n",
        "# T-test\n",
        "Definition: A statistical test used when the population standard deviation (σ) is unknown and the sample size is small (n < 30).\n",
        "\n",
        "Distribution: Student’s t-distribution (fatter tails than Z to account for uncertainty in estimating σ).\n",
        "\n",
        "When to use:\n",
        "\n",
        "Population variance is unknown.\n",
        "\n",
        "Small sample size.\n",
        "\n",
        "Data is approximately normally distributed.\n",
        "\n",
        "Example: Testing whether the average exam score in a class differs from 75, based on a small sample, when σ is unknown.\n",
        "\n"
      ],
      "metadata": {
        "id": "s6G4A_v1ATV7"
      }
    },
    {
      "cell_type": "code",
      "source": [
        "#Question 6: Write a Python program to generate a binomial distribution with n=10 and\n",
        "#p=0.5, then plot its histogram\n",
        "\n",
        "import numpy as np\n",
        "import matplotlib.pyplot as plt\n",
        "\n",
        "# Parameters\n",
        "n = 10        # Number of trials\n",
        "p = 0.5       # Probability of success\n",
        "size = 1000   # Number of experiments to simulate\n",
        "\n",
        "# Generate binomial distribution\n",
        "data = np.random.binomial(n, p, size)\n",
        "\n",
        "# Plot histogram\n",
        "plt.hist(data, bins=range(n+2), edgecolor='black', align='left')\n",
        "plt.title(f'Binomial Distribution (n={n}, p={p})')\n",
        "plt.xlabel('Number of Successes')\n",
        "plt.ylabel('Frequency')\n",
        "plt.grid(axis='y', linestyle='--', alpha=0.7)\n",
        "plt.show()\n"
      ],
      "metadata": {
        "colab": {
          "base_uri": "https://localhost:8080/",
          "height": 472
        },
        "id": "x8Uao37vGLF6",
        "outputId": "ce524896-80a6-46ea-a70c-f59ffd6c55c6"
      },
      "execution_count": 1,
      "outputs": [
        {
          "output_type": "display_data",
          "data": {
            "text/plain": [
              "<Figure size 640x480 with 1 Axes>"
            ],
            "image/png": "[encoded data removed]"
          },
          "metadata": {}
        }
      ]
    },
    {
      "cell_type": "code",
      "source": [
        "'''\n",
        "Implement hypothesis testing using Z-statistics for a sample dataset in\n",
        "Python. Show the Python code and interpret the results.\n",
        "sample_data = [49.1, 50.2, 51.0, 48.7, 50.5, 49.8, 50.3, 50.7, 50.2, 49.6,\n",
        "50.1, 49.9, 50.8, 50.4, 48.9, 50.6, 50.0, 49.7, 50.2, 49.5,\n",
        "50.1, 50.3, 50.4, 50.5, 50.0, 50.7, 49.3, 49.8, 50.2, 50.9,\n",
        "50.3, 50.4, 50.0, 49.7, 50.5, 49.9]\n",
        "\n",
        "'''\n",
        "\n",
        "import numpy as np\n",
        "from scipy.stats import norm\n",
        "\n",
        "# Sample data\n",
        "sample_data = [49.1, 50.2, 51.0, 48.7, 50.5, 49.8, 50.3, 50.7, 50.2, 49.6,\n",
        "               50.1, 49.9, 50.8, 50.4, 48.9, 50.6, 50.0, 49.7, 50.2, 49.5,\n",
        "               50.1, 50.3, 50.4, 50.5, 50.0, 50.7, 49.3, 49.8, 50.2, 50.9,\n",
        "               50.3, 50.4, 50.0, 49.7, 50.5, 49.9]\n",
        "\n",
        "# Hypothesized population mean and population standard deviation\n",
        "mu_0 = 50\n",
        "sigma = 0.5  # known population std dev\n",
        "\n",
        "# Calculate sample mean\n",
        "sample_mean = np.mean(sample_data)\n",
        "n = len(sample_data)\n",
        "\n",
        "# Z-test statistic\n",
        "z_score = (sample_mean - mu_0) / (sigma / np.sqrt(n))\n",
        "\n",
        "# Two-tailed p-value\n",
        "p_value = 2 * (1 - norm.cdf(abs(z_score)))\n",
        "\n",
        "# Display results\n",
        "print(f\"Sample Mean: {sample_mean:.4f}\")\n",
        "print(f\"Z-Score: {z_score:.4f}\")\n",
        "print(f\"P-Value: {p_value:.4f}\")\n",
        "\n",
        "# Decision at α = 0.05\n",
        "alpha = 0.05\n",
        "if p_value < alpha:\n",
        "    print(\"Reject the null hypothesis: Significant difference detected.\")\n",
        "else:\n",
        "    print(\"Fail to reject the null hypothesis: No significant difference detected.\")\n",
        "\n"
      ],
      "metadata": {
        "colab": {
          "base_uri": "https://localhost:8080/"
        },
        "id": "f65Sr61oGsia",
        "outputId": "bcc0695a-bb30-4d9a-c1f3-17ffc0b0d040"
      },
      "execution_count": 3,
      "outputs": [
        {
          "output_type": "stream",
          "name": "stdout",
          "text": [
            "Sample Mean: 50.0889\n",
            "Z-Score: 1.0667\n",
            "P-Value: 0.2861\n",
            "Fail to reject the null hypothesis: No significant difference detected.\n"
          ]
        }
      ]
    },
    {
      "cell_type": "code",
      "source": [
        "#Write a Python script to simulate data from a normal distribution and\n",
        "#calculate the 95% confidence interval for its mean. Plot the data using Matplotlib.\n",
        "\n",
        "import numpy as np\n",
        "import matplotlib.pyplot as plt\n",
        "from scipy import stats\n",
        "\n",
        "# Step 1: Simulate data\n",
        "np.random.seed(42)  # for reproducibility\n",
        "mu = 50             # true mean\n",
        "sigma = 5           # standard deviation\n",
        "n = 100             # sample size\n",
        "\n",
        "data = np.random.normal(mu, sigma, n)\n",
        "\n",
        "# Step 2: Calculate 95% confidence interval\n",
        "sample_mean = np.mean(data)\n",
        "sample_std = np.std(data, ddof=1)  # sample standard deviation\n",
        "alpha = 0.05\n",
        "\n",
        "# t critical value for 95% CI\n",
        "t_crit = stats.t.ppf(1 - alpha/2, df=n-1)\n",
        "\n",
        "margin_of_error = t_crit * (sample_std / np.sqrt(n))\n",
        "ci_lower = sample_mean - margin_of_error\n",
        "ci_upper = sample_mean + margin_of_error\n",
        "\n",
        "print(f\"Sample Mean: {sample_mean:.2f}\")\n",
        "print(f\"95% Confidence Interval: ({ci_lower:.2f}, {ci_upper:.2f})\")\n",
        "\n",
        "# Step 3: Plot the data\n",
        "plt.figure(figsize=(8, 5))\n",
        "plt.hist(data, bins=12, edgecolor='black', alpha=0.7)\n",
        "plt.axvline(sample_mean, color='red', linestyle='--', label=f\"Mean = {sample_mean:.2f}\")\n",
        "plt.axvline(ci_lower, color='green', linestyle='--', label=f\"Lower CI = {ci_lower:.2f}\")\n",
        "plt.axvline\n"
      ],
      "metadata": {
        "colab": {
          "base_uri": "https://localhost:8080/",
          "height": 649
        },
        "id": "yOK3QrIkHIsn",
        "outputId": "75fd5fbb-fd6d-493d-fc13-09c604fbd220"
      },
      "execution_count": 4,
      "outputs": [
        {
          "output_type": "stream",
          "name": "stdout",
          "text": [
            "Sample Mean: 49.48\n",
            "95% Confidence Interval: (48.58, 50.38)\n"
          ]
        },
        {
          "output_type": "execute_result",
          "data": {
            "text/plain": [
              "<function matplotlib.pyplot.axvline(x: 'float' = 0, ymin: 'float' = 0, ymax: 'float' = 1, **kwargs) -> 'Line2D'>"
            ],
            "text/html": [
              "<div style=\"max-width:800px; border: 1px solid var(--colab-border-color);\"><style>\n",
              "      pre.function-repr-contents {\n",
              "        overflow-x: auto;\n",
              "        padding: 8px 12px;\n",
              "        max-height: 500px;\n",
              "      }\n",
              "\n",
              "      pre.function-repr-contents.function-repr-contents-collapsed {\n",
              "        cursor: pointer;\n",
              "        max-height: 100px;\n",
              "      }\n",
              "    </style>\n",
              "    <pre style=\"white-space: initial; background:\n",
              "         var(--colab-secondary-surface-color); padding: 8px 12px;\n",
              "         border-bottom: 1px solid var(--colab-border-color);\"><b>matplotlib.pyplot.axvline</b><br/>def axvline(x: float=0, ymin: float=0, ymax: float=1, **kwargs) -&gt; Line2D</pre><pre class=\"function-repr-contents function-repr-contents-collapsed\" style=\"\"><a class=\"filepath\" style=\"display:none\" href=\"#\">/usr/local/lib/python3.11/dist-packages/matplotlib/pyplot.py</a>Add a vertical line spanning the whole or fraction of the Axes.\n",
              "\n",
              "Note: If you want to set y-limits in data coordinates, use\n",
              "`~.Axes.vlines` instead.\n",
              "\n",
              "Parameters\n",
              "----------\n",
              "x : float, default: 0\n",
              "    y position in :ref:`data coordinates &lt;coordinate-systems&gt;`.\n",
              "\n",
              "ymin : float, default: 0\n",
              "    The start y-position in :ref:`axes coordinates &lt;coordinate-systems&gt;`.\n",
              "    Should be between 0 and 1, 0 being the bottom of the plot, 1 the\n",
              "    top of the plot.\n",
              "\n",
              "ymax : float, default: 1\n",
              "    The end y-position in :ref:`axes coordinates &lt;coordinate-systems&gt;`.\n",
              "    Should be between 0 and 1, 0 being the bottom of the plot, 1 the\n",
              "    top of the plot.\n",
              "\n",
              "Returns\n",
              "-------\n",
              "`~matplotlib.lines.Line2D`\n",
              "    A `.Line2D` specified via two points ``(x, ymin)``, ``(x, ymax)``.\n",
              "    Its transform is set such that *x* is in\n",
              "    :ref:`data coordinates &lt;coordinate-systems&gt;` and *y* is in\n",
              "    :ref:`axes coordinates &lt;coordinate-systems&gt;`.\n",
              "\n",
              "    This is still a generic line and the vertical character is only\n",
              "    realized through using identical *x* values for both points. Thus,\n",
              "    if you want to change the *x* value later, you have to provide two\n",
              "    values ``line.set_xdata([3, 3])``.\n",
              "\n",
              "Other Parameters\n",
              "----------------\n",
              "**kwargs\n",
              "    Valid keyword arguments are `.Line2D` properties, except for\n",
              "    &#x27;transform&#x27;:\n",
              "\n",
              "    Properties:\n",
              "    agg_filter: a filter function, which takes a (m, n, 3) float array and a dpi value, and returns a (m, n, 3) array and two offsets from the bottom left corner of the image\n",
              "    alpha: scalar or None\n",
              "    animated: bool\n",
              "    antialiased or aa: bool\n",
              "    clip_box: `~matplotlib.transforms.BboxBase` or None\n",
              "    clip_on: bool\n",
              "    clip_path: Patch or (Path, Transform) or None\n",
              "    color or c: :mpltype:`color`\n",
              "    dash_capstyle: `.CapStyle` or {&#x27;butt&#x27;, &#x27;projecting&#x27;, &#x27;round&#x27;}\n",
              "    dash_joinstyle: `.JoinStyle` or {&#x27;miter&#x27;, &#x27;round&#x27;, &#x27;bevel&#x27;}\n",
              "    dashes: sequence of floats (on/off ink in points) or (None, None)\n",
              "    data: (2, N) array or two 1D arrays\n",
              "    drawstyle or ds: {&#x27;default&#x27;, &#x27;steps&#x27;, &#x27;steps-pre&#x27;, &#x27;steps-mid&#x27;, &#x27;steps-post&#x27;}, default: &#x27;default&#x27;\n",
              "    figure: `~matplotlib.figure.Figure` or `~matplotlib.figure.SubFigure`\n",
              "    fillstyle: {&#x27;full&#x27;, &#x27;left&#x27;, &#x27;right&#x27;, &#x27;bottom&#x27;, &#x27;top&#x27;, &#x27;none&#x27;}\n",
              "    gapcolor: :mpltype:`color` or None\n",
              "    gid: str\n",
              "    in_layout: bool\n",
              "    label: object\n",
              "    linestyle or ls: {&#x27;-&#x27;, &#x27;--&#x27;, &#x27;-.&#x27;, &#x27;:&#x27;, &#x27;&#x27;, (offset, on-off-seq), ...}\n",
              "    linewidth or lw: float\n",
              "    marker: marker style string, `~.path.Path` or `~.markers.MarkerStyle`\n",
              "    markeredgecolor or mec: :mpltype:`color`\n",
              "    markeredgewidth or mew: float\n",
              "    markerfacecolor or mfc: :mpltype:`color`\n",
              "    markerfacecoloralt or mfcalt: :mpltype:`color`\n",
              "    markersize or ms: float\n",
              "    markevery: None or int or (int, int) or slice or list[int] or float or (float, float) or list[bool]\n",
              "    mouseover: bool\n",
              "    path_effects: list of `.AbstractPathEffect`\n",
              "    picker: float or callable[[Artist, Event], tuple[bool, dict]]\n",
              "    pickradius: float\n",
              "    rasterized: bool\n",
              "    sketch_params: (scale: float, length: float, randomness: float)\n",
              "    snap: bool or None\n",
              "    solid_capstyle: `.CapStyle` or {&#x27;butt&#x27;, &#x27;projecting&#x27;, &#x27;round&#x27;}\n",
              "    solid_joinstyle: `.JoinStyle` or {&#x27;miter&#x27;, &#x27;round&#x27;, &#x27;bevel&#x27;}\n",
              "    transform: unknown\n",
              "    url: str\n",
              "    visible: bool\n",
              "    xdata: 1D array\n",
              "    ydata: 1D array\n",
              "    zorder: float\n",
              "\n",
              "See Also\n",
              "--------\n",
              "vlines : Add vertical lines in data coordinates.\n",
              "axvspan : Add a vertical span (rectangle) across the axis.\n",
              "axline : Add a line with an arbitrary slope.\n",
              "\n",
              "Notes\n",
              "-----\n",
              "\n",
              ".. note::\n",
              "\n",
              "    This is the :ref:`pyplot wrapper &lt;pyplot_interface&gt;` for `.axes.Axes.axvline`.\n",
              "\n",
              "Examples\n",
              "--------\n",
              "* draw a thick red vline at *x* = 0 that spans the yrange::\n",
              "\n",
              "    &gt;&gt;&gt; axvline(linewidth=4, color=&#x27;r&#x27;)\n",
              "\n",
              "* draw a default vline at *x* = 1 that spans the yrange::\n",
              "\n",
              "    &gt;&gt;&gt; axvline(x=1)\n",
              "\n",
              "* draw a default vline at *x* = .5 that spans the middle half of\n",
              "  the yrange::\n",
              "\n",
              "    &gt;&gt;&gt; axvline(x=.5, ymin=0.25, ymax=0.75)</pre>\n",
              "      <script>\n",
              "      if (google.colab.kernel.accessAllowed && google.colab.files && google.colab.files.view) {\n",
              "        for (const element of document.querySelectorAll('.filepath')) {\n",
              "          element.style.display = 'block'\n",
              "          element.onclick = (event) => {\n",
              "            event.preventDefault();\n",
              "            event.stopPropagation();\n",
              "            google.colab.files.view(element.textContent, 2956);\n",
              "          };\n",
              "        }\n",
              "      }\n",
              "      for (const element of document.querySelectorAll('.function-repr-contents')) {\n",
              "        element.onclick = (event) => {\n",
              "          event.preventDefault();\n",
              "          event.stopPropagation();\n",
              "          element.classList.toggle('function-repr-contents-collapsed');\n",
              "        };\n",
              "      }\n",
              "      </script>\n",
              "      </div>"
            ]
          },
          "metadata": {},
          "execution_count": 4
        },
        {
          "output_type": "display_data",
          "data": {
            "text/plain": [
              "<Figure size 800x500 with 1 Axes>"
            ],
            "image/png": "[encoded data removed]"
          },
          "metadata": {}
        }
      ]
    },
    {
      "cell_type": "code",
      "source": [
        "'''\n",
        "Write a Python function to calculate the Z-scores from a dataset and\n",
        "visualize the standardized data using a histogram. Explain what the Z-scores represent\n",
        "in terms of standard deviations from the mean.\n",
        "\n",
        "'''\n",
        "\n",
        "import numpy as np\n",
        "import matplotlib.pyplot as plt\n",
        "\n",
        "def zscore_and_plot(data):\n",
        "    # Calculate mean and std deviation\n",
        "    mean = np.mean(data)\n",
        "    std_dev = np.std(data, ddof=0)  # population std deviation\n",
        "\n",
        "    # Calculate Z-scores\n",
        "    z_scores = (data - mean) / std_dev\n",
        "\n",
        "    # Plot histogram\n",
        "    plt.figure(figsize=(8, 5))\n",
        "    plt.hist(z_scores, bins=10, edgecolor='black', alpha=0.7)\n",
        "    plt.title(\"Histogram of Z-scores (Standardized Data)\")\n",
        "    plt.xlabel(\"Z-score\")\n",
        "    plt.ylabel(\"Frequency\")\n",
        "    plt.axvline(0, color='red', linestyle='--', label=\"Mean (Z=0)\")\n",
        "    plt.legend()\n",
        "    plt.grid(axis='y', linestyle='--', alpha=0.6)\n",
        "    plt.show()\n",
        "\n",
        "    return z_scores\n",
        "\n",
        "# Example usage\n",
        "data = np.array([45, 48, 50, 52, 47, 49, 51, 53, 46, 50])\n",
        "z_scores = zscore_and_plot(data)\n",
        "\n",
        "print(\"Z-scores:\", np.round(z_scores, 2))\n",
        "\n",
        "\n",
        "'''\n",
        "What Z-scores Represent:\n",
        "\n",
        "A Z-score tells you how many standard deviations a data point is from the mean.\n",
        "\n",
        "Interpretation:\n",
        "\n",
        "Z = 0 → Value is exactly at the mean.\n",
        "\n",
        "Z = +1 → Value is 1 standard deviation above the mean.\n",
        "\n",
        "Z = −1 → Value is 1 standard deviation below the mean.\n",
        "\n",
        "|Z| > 3 → Often considered an outlier (very far from mean).\n",
        "\n",
        "'''\n"
      ],
      "metadata": {
        "colab": {
          "base_uri": "https://localhost:8080/",
          "height": 504
        },
        "id": "E5gI8BcjHVXx",
        "outputId": "69c26eea-aafb-4917-9a85-60166ae4d73b"
      },
      "execution_count": 5,
      "outputs": [
        {
          "output_type": "display_data",
          "data": {
            "text/plain": [
              "<Figure size 800x500 with 1 Axes>"
            ],
            "image/png": "[encoded data removed]"
          },
          "metadata": {}
        },
        {
          "output_type": "stream",
          "name": "stdout",
          "text": [
            "Z-scores: [-1.66 -0.45  0.36  1.18 -0.85 -0.04  0.77  1.58 -1.26  0.36]\n"
          ]
        }
      ]
    }
  ]
}